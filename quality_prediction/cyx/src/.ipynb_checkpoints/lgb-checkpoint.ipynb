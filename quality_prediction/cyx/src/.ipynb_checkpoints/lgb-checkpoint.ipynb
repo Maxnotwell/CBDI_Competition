{
 "cells": [
  {
   "cell_type": "code",
   "execution_count": null,
   "metadata": {},
   "outputs": [],
   "source": [
    "import pandas as pd\n",
    "import numpy as np\n",
    "import matplotlib.pyplot as plt\n",
    "import seaborn as sns\n",
    "import os\n",
    "import warnings\n",
    "import time\n",
    "import datetime\n",
    "from sklearn.model_selection import StratifiedKFold\n",
    "from sklearn.metrics import f1_score, confusion_matrix\n",
    "import lightgbm as lgb\n",
    "from math import radians, cos, sin, asin, sqrt\n",
    "from tqdm import tqdm, tqdm_notebook\n",
    "import pickle\n",
    "from sklearn.decomposition import TruncatedSVD\n",
    "from sklearn.feature_extraction.text import TfidfVectorizer, CountVectorizer\n",
    "import math\n",
    "from itertools import combinations\n",
    "from sklearn.preprocessing import LabelEncoder\n",
    "from gensim.models import Word2Vec\n",
    "import json\n",
    "import gc\n",
    "import re\n",
    "warnings.filterwarnings('ignore')\n",
    "os.environ['CUDA_VISIBLE_DEVICES'] = '0'"
   ]
  },
  {
   "cell_type": "code",
   "execution_count": null,
   "metadata": {},
   "outputs": [],
   "source": [
    "train = pd.read_csv('../data/first_round_training_data.csv')\n",
    "test = pd.read_csv('../data/first_round_testing_data.csv')"
   ]
  },
  {
   "cell_type": "code",
   "execution_count": null,
   "metadata": {},
   "outputs": [],
   "source": [
    "len(train),len(test)"
   ]
  },
  {
   "cell_type": "code",
   "execution_count": null,
   "metadata": {},
   "outputs": [],
   "source": [
    "features = [c for c in test.columns if c!='Group']\n",
    "cat_feats = ['Attribute4',\n",
    "'Attribute5',\n",
    "'Attribute6',\n",
    "'Attribute7',\n",
    "'Attribute8',\n",
    "'Attribute9',\n",
    "'Attribute10',\n",
    "'Parameter5',\n",
    "'Parameter6',\n",
    "'Parameter7',\n",
    "'Parameter8',\n",
    "'Parameter9',\n",
    "'Parameter10']\n",
    "\n",
    "use_cate = [c for c in cat_feats if 'Para' in c]  #使用到的6个变量\n",
    "col_only_train = [c for c in test.columns if c != 'Group']  #训练集中的所有变量\n",
    "all_feat = [c for c in train.columns if c != 'Quality_label']  #数据的所有特征\n",
    "data = pd.concat([train,test])\n",
    "\n",
    "def nnq_encode(data,en_col,use_col):\n",
    "    data[en_col + '_nnq_of_' + use_col] = data[en_col].map( data.groupby([en_col])[use_col].nunique() )\n",
    "    features.append( en_col + '_nnq_of_' + use_col )\n",
    "    return data\n",
    "\n",
    "for en_col in use_cate:\n",
    "    for use_col in cat_feats:\n",
    "        if en_col != use_col:\n",
    "            data = nnq_encode(data,en_col,use_col)\n",
    "# for en_col in use_cate:\n",
    "#     for use_col in use_cate:\n",
    "#         if en_col != use_col:\n",
    "#             colname =  en_col +'_count_' + use_col\n",
    "#             features.append( colname)\n",
    "#             data[ colname] = data[en_col].astype(str) + \"|\" + data[use_col].astype(str)\n",
    "#             data[ colname] = data.groupby([ colname ])[colname].transform('count')\n",
    "# for en_col in use_cate:\n",
    "#     for use_col in all_feat:\n",
    "#         if en_col != use_col:\n",
    "#             colname =  en_col +'_mean_' + use_col\n",
    "#             features.append( colname)\n",
    "#             data[ colname] = data[en_col].map( data.groupby([en_col])[use_col].mean() )\n",
    "#             colname =  en_col +'_std_' + use_col\n",
    "#             features.append( colname)\n",
    "#             data[ colname] = data[en_col].map( data.groupby([en_col])[use_col].std() )\n"
   ]
  },
  {
   "cell_type": "code",
   "execution_count": null,
   "metadata": {},
   "outputs": [],
   "source": [
    "classMap = {'Excellent':0,\n",
    "'Good':1,\n",
    "'Pass':2,\n",
    "'Fail':3,}\n",
    "tr_index = ~data.Quality_label.isnull()\n",
    "train_df = data[tr_index][use_cate +['Quality_label']].reset_index(drop=True)\n",
    "train_df['Quality_label'] = train_df['Quality_label'].map(classMap)\n",
    "\n",
    "test_df = data[~tr_index].reset_index(drop=True)\n",
    "id_test = test_df.Group.values\n",
    "\n",
    "\n",
    "X_train = train_df[use_cate]    \n",
    "y = train_df.Quality_label\n",
    "X_test = test_df[use_cate]\n",
    "del train,test\n",
    "del train_df,test_df\n",
    "gc.collect()"
   ]
  },
  {
   "cell_type": "code",
   "execution_count": null,
   "metadata": {
    "scrolled": true
   },
   "outputs": [],
   "source": [
    "X_train[:10]"
   ]
  },
  {
   "cell_type": "code",
   "execution_count": null,
   "metadata": {
    "scrolled": true
   },
   "outputs": [],
   "source": [
    "lgb_paras = {\n",
    "        'objective': 'multiclass',\n",
    "        'metric': 'multi_logloss',\n",
    "        'learning_rate': 0.01,\n",
    "        'num_leaves': 32,\n",
    "        # 'lambda_l1': 0.01,\n",
    "        # 'lambda_l2': 10,\n",
    "        'num_class': 4,\n",
    "        'max_depth': -1,\n",
    "        'seed': 2019,\n",
    "        'feature_fraction': 0.8,\n",
    "        #         'bagging_fraction': 0.8,\n",
    "        #         'bagging_freq': 4,\n",
    "        'verbose': 1\n",
    "#         'device': gpu\n",
    "    }\n",
    "from sklearn.metrics import f1_score, confusion_matrix\n",
    "all_preads = []\n",
    "skf = StratifiedKFold(n_splits=5, random_state=2019, shuffle=True)\n",
    "def f1_weighted(preds, train_data):\n",
    "    y_true = train_data.label\n",
    "    preds = np.argmax(preds.reshape(4, -1), axis=0)\n",
    "    score = f1_score(y_true, preds, average='weighted')\n",
    "    return 'f1_weighted', score, True\n",
    "evals_result = {}\n",
    "for index, (train_index, test_index) in enumerate(skf.split(X_train, y)):\n",
    "    train_x, test_x, train_y, test_y = X_train[use_cate].iloc[train_index], X_train[use_cate].iloc[test_index], y.iloc[train_index], y.iloc[test_index]\n",
    "    dtrain = lgb.Dataset(train_x, train_y)\n",
    "\n",
    "    dvalid = lgb.Dataset(test_x, test_y)\n",
    "#     clf = lgb.train(\n",
    "#         params=lgb_paras,\n",
    "#         train_set=dtrain,\n",
    "#         num_boost_round=10000,\n",
    "#         valid_sets=[dtrain, dvalid],\n",
    "#         evals_result=evals_result,\n",
    "#         early_stopping_rounds=100,\n",
    "#         valid_names=[\"train\", \"valid\"],\n",
    "#         # categorical_feature=cate_cols,\n",
    "#         verbose_eval=100)\n",
    "    \n",
    "    lgb_modelall = lgb.train(lgb_paras, dtrain,\n",
    "                             valid_sets=[dtrain, dvalid],\n",
    "                             num_boost_round=1000,\n",
    "                             early_stopping_rounds=100,\n",
    "                             valid_names=[\"train\", \"valid\"],\n",
    "                             evals_result=evals_result,\n",
    "                             verbose_eval=50,\n",
    "                             feval=f1_weighted)\n",
    "    pred = lgb_modelall.predict(X_test)\n",
    "    all_preads.append( pred )\n",
    "\n",
    "\n",
    "    "
   ]
  },
  {
   "cell_type": "code",
   "execution_count": null,
   "metadata": {},
   "outputs": [],
   "source": [
    "mean_pread = np.mean(all_preads,axis=0)\n",
    "cols = ['Excellent ratio','Good ratio','Pass ratio','Fail ratio']\n",
    "\n",
    "sub_prob  = pd.DataFrame(mean_pread,columns=cols)\n",
    "len(sub_prob),len(id_test)\n",
    "sub_prob['Group'] = id_test\n",
    "\n",
    "sub_prob['Group'] = sub_prob['Group'].map(int)\n",
    "sub_prob = sub_prob.groupby([ 'Group'])[cols].median().reset_index()\n",
    "\n",
    "sub_prob.to_csv('../logs/lgb_3rd.csv',index=False)"
   ]
  },
  {
   "cell_type": "code",
   "execution_count": null,
   "metadata": {},
   "outputs": [],
   "source": [
    "all_preads[0][0]"
   ]
  },
  {
   "cell_type": "code",
   "execution_count": null,
   "metadata": {},
   "outputs": [],
   "source": [
    "features"
   ]
  },
  {
   "cell_type": "code",
   "execution_count": null,
   "metadata": {},
   "outputs": [],
   "source": []
  }
 ],
 "metadata": {
  "kernelspec": {
   "display_name": "Python 3",
   "language": "python",
   "name": "python3"
  },
  "language_info": {
   "codemirror_mode": {
    "name": "ipython",
    "version": 3
   },
   "file_extension": ".py",
   "mimetype": "text/x-python",
   "name": "python",
   "nbconvert_exporter": "python",
   "pygments_lexer": "ipython3",
   "version": "3.6.4"
  }
 },
 "nbformat": 4,
 "nbformat_minor": 2
}
